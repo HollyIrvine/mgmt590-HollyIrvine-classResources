{
 "cells": [
  {
   "cell_type": "markdown",
   "id": "ecc50d3c-1c24-4414-bf18-dcfb4bb885a8",
   "metadata": {},
   "source": [
    "# Flights Reports Data\n",
    "\n",
    "Download the flight report data from the Bureau of Transportation for a range of years. This data comes from: https://transtats.bts.gov/Fields.asp?gnoyr_VQ=FGJ\n",
    "\n",
    "Use the script downloadFlightsETL.sh to download CSV files for one or more years."
   ]
  },
  {
   "cell_type": "raw",
   "id": "a7c8fcfa-70a4-4fff-97ba-2caae98ee086",
   "metadata": {},
   "source": [
    "./sh/downloadFlightsETL.sh 2018 2019"
   ]
  },
  {
   "cell_type": "markdown",
   "id": "01b1962e-1e50-4f39-a1ff-2efe5ea2afd2",
   "metadata": {},
   "source": [
    "This will download and clean flight report data, writing resulting data files in\n",
    "> data/flightsETL"
   ]
  },
  {
   "cell_type": "markdown",
   "id": "0d688ccb-a486-4a7f-97f0-68861828171e",
   "metadata": {},
   "source": [
    "You should see output from the script like the following:\n",
    "> Downloading data:\n",
    "\n",
    "> ...downloading 1/2019  % Total    % Received % Xferd  Average Speed   Time    Time     Time  Current\n",
    "\n",
    ">                                  Dload  Upload   Total   Spent    Left  Speed\n",
    "\n",
    "> 100 28.1M  100 28.1M    0     0   818k      0  0:00:35  0:00:35 --:--:-- 1228k\n",
    "\n",
    ">  --> SUCCESS\n",
    "\n",
    "> -rw-r--r--  1 user  group    29M Jun 20 15:51 2018-12.zip\n",
    "\n",
    "> -rw-r--r--  1 user  group    29M Jun 20 15:50 2018-11.zip\n",
    "\n",
    "> Unzipping data for 2018:\n",
    "\n",
    "> ...Unzipping 2018-1.zip\n",
    "\n",
    "> Archive:  2018-1.zip\n",
    "\n",
    ">   inflating: On_Time_Reporting_Carrier_On_Time_Performance_(1987_present)_2018_1.csv\n",
    "\n",
    ">   inflating: readme.html\n",
    "\n",
    "> -rw-r--r--  1 user  group   256M Mar 12  2019 On_Time_Reporting_Carrier_On_Time_Performance_(1987_present)_2018_12.csv\n",
    "\n",
    "> -rw-r--r--  1 user  group   253M Feb  7  2019 On_Time_Reporting_Carrier_On_Time_Performance_(1987_present)_2018_11.csv\n",
    "\n",
    "> Cleaning data for 2018:\n",
    "\n",
    "> ...Cleaning 1/2018 --> SUCCESS\n",
    "\n",
    "> ...Cleaning 2/2018 --> SUCCESS"
   ]
  },
  {
   "cell_type": "code",
   "execution_count": null,
   "id": "dd37d94d-010b-48f4-b6ed-8edeb1416599",
   "metadata": {},
   "outputs": [],
   "source": []
  }
 ],
 "metadata": {
  "kernelspec": {
   "display_name": "bigdata_venv",
   "language": "python",
   "name": "bigdata_venv"
  },
  "language_info": {
   "codemirror_mode": {
    "name": "ipython",
    "version": 3
   },
   "file_extension": ".py",
   "mimetype": "text/x-python",
   "name": "python",
   "nbconvert_exporter": "python",
   "pygments_lexer": "ipython3",
   "version": "3.8.2"
  }
 },
 "nbformat": 4,
 "nbformat_minor": 5
}
