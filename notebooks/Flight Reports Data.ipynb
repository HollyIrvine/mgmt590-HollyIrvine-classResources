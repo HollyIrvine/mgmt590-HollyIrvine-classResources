{
 "cells": [
  {
   "cell_type": "markdown",
   "id": "ecc50d3c-1c24-4414-bf18-dcfb4bb885a8",
   "metadata": {},
   "source": [
    "# Flights Reports Data\n",
    "\n",
    "In this exercise, we will download flight report data from the Bureau of Transportation, clean it and get it ready to import into Google BigQuery, store it in Google Storage, and finally load it into a table in BigQuery.\n",
    "\n",
    "## Prerequisites\n",
    "\n",
    "1. We will use Google's Cloud Shell service to do this task. You will need to create a project in Google Cloud. (From the Google Cloud Console, go to \"Select Project\" and create a new project.)\n",
    "1. Activate the Cloud Shell by clicking on the prompt symbol (>_) in the menu bar of the console.\n",
    "1. When you activate the cloud shell, it will tell you if you have a project set, such as the following: (My project has the ID __prof-big-data__.)"
   ]
  },
  {
   "cell_type": "raw",
   "id": "56f18e1c-3b3e-4752-b9d7-df524dcb7028",
   "metadata": {},
   "source": [
    "Welcome to Cloud Shell! Type \"help\" to get started.\n",
    "Your Cloud Platform project in this session is set to prof-big-data.\n",
    "Use “gcloud config set project [PROJECT_ID]” to change to a different project.\n",
    "krannert_big_data_n_cloud@cloudshell:~ (prof-big-data)$"
   ]
  },
  {
   "cell_type": "markdown",
   "id": "540a5d98-228f-47c9-b447-be216b8a03ee",
   "metadata": {},
   "source": [
    " If your shell does not have a project set, you will need to configure it to use the project you created in the first step."
   ]
  },
  {
   "cell_type": "raw",
   "id": "d67ee0c0-eff2-4e91-9ef9-1a06e86a8c0f",
   "metadata": {},
   "source": [
    "gcloud config set project prof-big-data"
   ]
  },
  {
   "cell_type": "markdown",
   "id": "d3be5597-f500-4b06-a06a-dc0cdd90ffd1",
   "metadata": {},
   "source": [
    "4. Set up the environment as described in the README in the GitHub repository.\n",
    "\n",
    "## Download, clean, & store flight report data\n",
    "\n",
    "\n",
    "\n",
    "Download the flight report data  for a range of years. This data comes from: [Airline On-Time Performance Data](https://transtats.bts.gov/DatabaseInfo.asp?QO_VQ=EFD&DB_URL=).\n",
    "\n",
    "Use the script `downloadFlightsETL.sh` to download CSV files for one or more years.\n",
    "\n",
    "_NOTE: This script does not rely on Python. It is purely shell scripting._"
   ]
  },
  {
   "cell_type": "raw",
   "id": "a7c8fcfa-70a4-4fff-97ba-2caae98ee086",
   "metadata": {},
   "source": [
    "./sh/downloadFlightsETL.sh 2018 2019"
   ]
  },
  {
   "cell_type": "markdown",
   "id": "01b1962e-1e50-4f39-a1ff-2efe5ea2afd2",
   "metadata": {},
   "source": [
    "This will download and clean flight report data, writing resulting data files in data/flightsETL.\n",
    "\n",
    "__NOTE: The downloaded files take up about 2-3 GBs per year of data. Make sure you have the space.__"
   ]
  },
  {
   "cell_type": "markdown",
   "id": "0d688ccb-a486-4a7f-97f0-68861828171e",
   "metadata": {},
   "source": [
    "You should see output from the script like the following:"
   ]
  },
  {
   "cell_type": "raw",
   "id": "fbf9886c-80be-47e4-97d9-b1ef0b4758b4",
   "metadata": {},
   "source": [
    "Downloading data:\n",
    "...downloading 1/2019  % Total    % Received % Xferd  Average Speed   Time    Time     Time  Current\n",
    "                                  Dload  Upload   Total   Spent    Left  Speed\n",
    "100 28.1M  100 28.1M    0     0   818k      0  0:00:35  0:00:35 --:--:-- 1228k\n",
    "--> SUCCESS\n",
    "-rw-r--r--  1 user  group    29M Jun 20 15:51 2018-12.zip\n",
    "-rw-r--r--  1 user  group    29M Jun 20 15:50 2018-11.zip\n",
    "Unzipping data for 2018:\n",
    "...Unzipping 2018-1.zip\n",
    "Archive:  2018-1.zip\n",
    "  inflating: On_Time_Reporting_Carrier_On_Time_Performance_(1987_present)_2018_1.csv\n",
    "  inflating: readme.html\n",
    "-rw-r--r--  1 user  group   256M Mar 12  2019 On_Time_Reporting_Carrier_On_Time_Performance_(1987_present)_2018_12.csv\n",
    "-rw-r--r--  1 user  group   253M Feb  7  2019 On_Time_Reporting_Carrier_On_Time_Performance_(1987_present)_2018_11.csv\n",
    "Cleaning data for 2018:\n",
    "...Cleaning 1/2018 --> SUCCESS\n",
    "...Cleaning 2/2018 --> SUCCESS"
   ]
  },
  {
   "cell_type": "code",
   "execution_count": null,
   "id": "65a9dfa5-dc28-4bdf-8c67-420c7fcbdcaf",
   "metadata": {},
   "outputs": [],
   "source": []
  }
 ],
 "metadata": {
  "kernelspec": {
   "display_name": "bigdata_venv",
   "language": "python",
   "name": "bigdata_venv"
  },
  "language_info": {
   "codemirror_mode": {
    "name": "ipython",
    "version": 3
   },
   "file_extension": ".py",
   "mimetype": "text/x-python",
   "name": "python",
   "nbconvert_exporter": "python",
   "pygments_lexer": "ipython3",
   "version": "3.8.2"
  }
 },
 "nbformat": 4,
 "nbformat_minor": 5
}
