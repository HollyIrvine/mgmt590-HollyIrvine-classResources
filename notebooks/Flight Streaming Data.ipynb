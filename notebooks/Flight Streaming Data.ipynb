{
 "cells": [
  {
   "cell_type": "markdown",
   "id": "52651355-8a61-4a92-b874-34de0d780906",
   "metadata": {},
   "source": [
    "# Flight Streaming Data\n",
    "\n",
    "This directory has code and schemas for interacting with the streaming data from OpenSky.\n",
    "\n",
    "The python/flight/stream folder contains code that will pull the latest data from OpenSky and store the data in GCS and/or publish the data as messages in a Pub/Sub queue.\n",
    "\n",
    "## How to Run Locally\n",
    "\n",
    "To execute the Python code, you will need to follow the instructions in the README (displayed in the main page in the GitHub repository.) You only need to set up your Python environment if you want to run the code from Cloud Shell (to test it out without using Cloud Function.)\n",
    "\n",
    "## How to Run Serveless\n",
    "\n",
    "To run using a Cloud Function (aka. using serverless computing) you supply the code and a list of required libraries to Cloud Function, connect the function to Cloud Storage or a Pub/Sub queue, and provide the function with permission to access your Cloud Storage bucket or your Pub/Sub queue. You can then create a Big Query table from either the Cloud Storage bucket or the Pub/Sub queue using the provided schemas.\n",
    "\n",
    "## Schemas\n",
    "\n",
    "The schema folder has schemas used both for BigQuery tables as well as for connecting a Pub/Sub topic to a BigQuery table.\n",
    "BigQuery schemas are used when you create a table and do not select to autodetect the schema. \n",
    "\n",
    "To create a table as an endpoint for messages published in a Pub/Sub topic will also need a schema that defines how to create columns out of the contents of the messages. The schema needed by DataFlow uses different types names than BigQuery.\n",
    "\n",
    "**schema/openSky_bigQuery.json** -- a schema that can be used when loading data from Cloud Storage.\n",
    "\n",
    "**schema/openSky_dataFlow.json** -- a schema that defines how to map the fields in a Pub/Sub message to columns."
   ]
  },
  {
   "cell_type": "code",
   "execution_count": null,
   "id": "43299508-4b7e-4128-900d-b9884d2518c2",
   "metadata": {},
   "outputs": [],
   "source": []
  }
 ],
 "metadata": {
  "kernelspec": {
   "display_name": "bigdata_venv",
   "language": "python",
   "name": "bigdata_venv"
  },
  "language_info": {
   "codemirror_mode": {
    "name": "ipython",
    "version": 3
   },
   "file_extension": ".py",
   "mimetype": "text/x-python",
   "name": "python",
   "nbconvert_exporter": "python",
   "pygments_lexer": "ipython3",
   "version": "3.8.2"
  }
 },
 "nbformat": 4,
 "nbformat_minor": 5
}
