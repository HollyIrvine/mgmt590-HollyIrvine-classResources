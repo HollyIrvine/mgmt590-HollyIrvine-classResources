{
 "cells": [
  {
   "cell_type": "markdown",
   "id": "52651355-8a61-4a92-b874-34de0d780906",
   "metadata": {},
   "source": [
    "# Flight St Data\n",
    "\n",
    "This directory has code and schemas for interacting with the streaming data from OpenSky.\n",
    "\n",
    "The python folder contains code to use with Cloud Function that will pull the latest data from OpenSky and store each\n",
    "record as a separate file in GCS. The schema folder has definitions for data content for use by BigQuery and/or \n",
    "DataFlow.\n",
    "\n",
    "## Schemas\n",
    "\n",
    "The schema folder has schemas used in BigQuery and in connecting a Pub/Sub topic to a BigQuery table.\n",
    "BigQuery schemas are used when you create a table from scratch. DataFlow jobs that transfer messages from a Pub/Sub \n",
    "topic to BigQuery, creating a table if it does not exist or appending to an existing table, will need a schema that \n",
    "defines the contents of the messages in the topic. The schema needed by DataFlow uses different types than BigQuery.\n",
    "\n",
    "**bqDataFlow_opensky_noAvroStringDates_schmea.json** -- this is a schema that DataFlow can recognize which defines the\n",
    "fields in the OpenSky records in a Pub/Sub topic. The types used in this schema will not be recognized by BigQuery,\n",
    "only by DataFlow.\n",
    "\n",
    "**not_used** -- a directory of other schemas used for various tools which are not necessarily needed. The Avro schemas\n",
    "are used when applying a schema to a Pub/Sub topic. Avro schema is yet another type of schema that is not compatible\n",
    "with BigQuery nor with DataFlow.\n",
    "\n",
    "**not_used/bqDestination_opensky_noAvro_schema.json** -- you may find this schema helpful if you want to create a\n",
    "table linked to a folder in a GCS bucket which is filled with records from OpenSky."
   ]
  },
  {
   "cell_type": "code",
   "execution_count": null,
   "id": "43299508-4b7e-4128-900d-b9884d2518c2",
   "metadata": {},
   "outputs": [],
   "source": []
  }
 ],
 "metadata": {
  "kernelspec": {
   "display_name": "bigdata_venv",
   "language": "python",
   "name": "bigdata_venv"
  },
  "language_info": {
   "codemirror_mode": {
    "name": "ipython",
    "version": 3
   },
   "file_extension": ".py",
   "mimetype": "text/x-python",
   "name": "python",
   "nbconvert_exporter": "python",
   "pygments_lexer": "ipython3",
   "version": "3.8.2"
  }
 },
 "nbformat": 4,
 "nbformat_minor": 5
}
