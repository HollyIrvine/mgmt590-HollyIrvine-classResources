{
  "cells": [
    {
      "cell_type": "markdown",
      "metadata": {
        "id": "view-in-github",
        "colab_type": "text"
      },
      "source": [
        "<a href=\"https://colab.research.google.com/github/bigDataNCloud/classResources/blob/main/colab_advanced_analytics_run_and_visualize.ipynb\" target=\"_parent\"><img src=\"https://colab.research.google.com/assets/colab-badge.svg\" alt=\"Open In Colab\"/></a>"
      ]
    },
    {
      "cell_type": "markdown",
      "id": "98dec849",
      "metadata": {
        "id": "98dec849"
      },
      "source": [
        "# 🔍 Advanced Analytics Colab Notebook\n",
        "This notebook runs end-to-end BigQuery modeling for churn and conversion analysis using:\n",
        "- KMeans clustering\n",
        "- Linear regression\n",
        "- Logistic regression\n",
        "- Manual segmentation\n",
        "- Logistic Model Tree logic\n",
        "\n",
        "**Dataset**: `prof-big-data.churn25.churnstudy`\n"
      ]
    },
    {
      "cell_type": "code",
      "execution_count": 12,
      "id": "e4cc709c",
      "metadata": {
        "id": "e4cc709c"
      },
      "outputs": [],
      "source": [
        "\n",
        "from google.colab import auth\n",
        "auth.authenticate_user()\n",
        "\n",
        "from google.cloud import bigquery\n",
        "import pandas as pd\n",
        "import seaborn as sns\n",
        "import matplotlib.pyplot as plt\n",
        "\n",
        "client = bigquery.Client(project=\"prof-big-data\")\n"
      ]
    },
    {
      "cell_type": "markdown",
      "id": "20b8530f",
      "metadata": {
        "id": "20b8530f"
      },
      "source": [
        "## 📌 Clustering: Basic User Profile (4 clusters)"
      ]
    },
    {
      "cell_type": "code",
      "execution_count": 9,
      "id": "ce7116bf",
      "metadata": {
        "colab": {
          "base_uri": "https://localhost:8080/"
        },
        "id": "ce7116bf",
        "outputId": "06b36c29-3eed-4a8c-a627-2d4f1ff9c0ea"
      },
      "outputs": [
        {
          "output_type": "stream",
          "name": "stdout",
          "text": [
            "✅ Done.\n"
          ]
        }
      ],
      "source": [
        "query = '''CREATE OR REPLACE MODEL `prof-big-data.churn25.kmeans_basic`\n",
        "OPTIONS(model_type='kmeans', num_clusters=4, standardize_features=TRUE) AS\n",
        "SELECT\n",
        "  sessions,\n",
        "  day_playtime / 60.0 AS playtime_minutes,\n",
        "  active_days\n",
        "FROM `prof-big-data.churn25.churnstudy`;'''\n",
        "client.query(query).result()\n",
        "print('✅ Done.')"
      ]
    },
    {
      "cell_type": "markdown",
      "source": [
        "📊 Evaluate KMeans Model Quality"
      ],
      "metadata": {
        "id": "tBpo_cjJvvT_"
      },
      "id": "tBpo_cjJvvT_"
    },
    {
      "cell_type": "code",
      "source": [
        "query_eval = \"\"\"\n",
        "SELECT *\n",
        "FROM ML.EVALUATE(MODEL `prof-big-data.churn25.kmeans_basic`)\n",
        "\"\"\"\n",
        "df_eval = client.query(query_eval).to_dataframe()\n",
        "df_eval\n"
      ],
      "metadata": {
        "colab": {
          "base_uri": "https://localhost:8080/",
          "height": 89
        },
        "id": "ru69ef1kvmGo",
        "outputId": "3a459174-fea9-43d2-8d9b-842962d0682d"
      },
      "id": "ru69ef1kvmGo",
      "execution_count": 13,
      "outputs": [
        {
          "output_type": "execute_result",
          "data": {
            "text/plain": [
              "   davies_bouldin_index  mean_squared_distance\n",
              "0              1.150668               1.370435"
            ],
            "text/html": [
              "\n",
              "  <div id=\"df-c12c7a98-362e-4e9e-a3c3-9632ae36bc91\" class=\"colab-df-container\">\n",
              "    <div>\n",
              "<style scoped>\n",
              "    .dataframe tbody tr th:only-of-type {\n",
              "        vertical-align: middle;\n",
              "    }\n",
              "\n",
              "    .dataframe tbody tr th {\n",
              "        vertical-align: top;\n",
              "    }\n",
              "\n",
              "    .dataframe thead th {\n",
              "        text-align: right;\n",
              "    }\n",
              "</style>\n",
              "<table border=\"1\" class=\"dataframe\">\n",
              "  <thead>\n",
              "    <tr style=\"text-align: right;\">\n",
              "      <th></th>\n",
              "      <th>davies_bouldin_index</th>\n",
              "      <th>mean_squared_distance</th>\n",
              "    </tr>\n",
              "  </thead>\n",
              "  <tbody>\n",
              "    <tr>\n",
              "      <th>0</th>\n",
              "      <td>1.150668</td>\n",
              "      <td>1.370435</td>\n",
              "    </tr>\n",
              "  </tbody>\n",
              "</table>\n",
              "</div>\n",
              "    <div class=\"colab-df-buttons\">\n",
              "\n",
              "  <div class=\"colab-df-container\">\n",
              "    <button class=\"colab-df-convert\" onclick=\"convertToInteractive('df-c12c7a98-362e-4e9e-a3c3-9632ae36bc91')\"\n",
              "            title=\"Convert this dataframe to an interactive table.\"\n",
              "            style=\"display:none;\">\n",
              "\n",
              "  <svg xmlns=\"http://www.w3.org/2000/svg\" height=\"24px\" viewBox=\"0 -960 960 960\">\n",
              "    <path d=\"M120-120v-720h720v720H120Zm60-500h600v-160H180v160Zm220 220h160v-160H400v160Zm0 220h160v-160H400v160ZM180-400h160v-160H180v160Zm440 0h160v-160H620v160ZM180-180h160v-160H180v160Zm440 0h160v-160H620v160Z\"/>\n",
              "  </svg>\n",
              "    </button>\n",
              "\n",
              "  <style>\n",
              "    .colab-df-container {\n",
              "      display:flex;\n",
              "      gap: 12px;\n",
              "    }\n",
              "\n",
              "    .colab-df-convert {\n",
              "      background-color: #E8F0FE;\n",
              "      border: none;\n",
              "      border-radius: 50%;\n",
              "      cursor: pointer;\n",
              "      display: none;\n",
              "      fill: #1967D2;\n",
              "      height: 32px;\n",
              "      padding: 0 0 0 0;\n",
              "      width: 32px;\n",
              "    }\n",
              "\n",
              "    .colab-df-convert:hover {\n",
              "      background-color: #E2EBFA;\n",
              "      box-shadow: 0px 1px 2px rgba(60, 64, 67, 0.3), 0px 1px 3px 1px rgba(60, 64, 67, 0.15);\n",
              "      fill: #174EA6;\n",
              "    }\n",
              "\n",
              "    .colab-df-buttons div {\n",
              "      margin-bottom: 4px;\n",
              "    }\n",
              "\n",
              "    [theme=dark] .colab-df-convert {\n",
              "      background-color: #3B4455;\n",
              "      fill: #D2E3FC;\n",
              "    }\n",
              "\n",
              "    [theme=dark] .colab-df-convert:hover {\n",
              "      background-color: #434B5C;\n",
              "      box-shadow: 0px 1px 3px 1px rgba(0, 0, 0, 0.15);\n",
              "      filter: drop-shadow(0px 1px 2px rgba(0, 0, 0, 0.3));\n",
              "      fill: #FFFFFF;\n",
              "    }\n",
              "  </style>\n",
              "\n",
              "    <script>\n",
              "      const buttonEl =\n",
              "        document.querySelector('#df-c12c7a98-362e-4e9e-a3c3-9632ae36bc91 button.colab-df-convert');\n",
              "      buttonEl.style.display =\n",
              "        google.colab.kernel.accessAllowed ? 'block' : 'none';\n",
              "\n",
              "      async function convertToInteractive(key) {\n",
              "        const element = document.querySelector('#df-c12c7a98-362e-4e9e-a3c3-9632ae36bc91');\n",
              "        const dataTable =\n",
              "          await google.colab.kernel.invokeFunction('convertToInteractive',\n",
              "                                                    [key], {});\n",
              "        if (!dataTable) return;\n",
              "\n",
              "        const docLinkHtml = 'Like what you see? Visit the ' +\n",
              "          '<a target=\"_blank\" href=https://colab.research.google.com/notebooks/data_table.ipynb>data table notebook</a>'\n",
              "          + ' to learn more about interactive tables.';\n",
              "        element.innerHTML = '';\n",
              "        dataTable['output_type'] = 'display_data';\n",
              "        await google.colab.output.renderOutput(dataTable, element);\n",
              "        const docLink = document.createElement('div');\n",
              "        docLink.innerHTML = docLinkHtml;\n",
              "        element.appendChild(docLink);\n",
              "      }\n",
              "    </script>\n",
              "  </div>\n",
              "\n",
              "\n",
              "  <div id=\"id_5a110254-0cd3-4862-8922-a565e5ec4fb8\">\n",
              "    <style>\n",
              "      .colab-df-generate {\n",
              "        background-color: #E8F0FE;\n",
              "        border: none;\n",
              "        border-radius: 50%;\n",
              "        cursor: pointer;\n",
              "        display: none;\n",
              "        fill: #1967D2;\n",
              "        height: 32px;\n",
              "        padding: 0 0 0 0;\n",
              "        width: 32px;\n",
              "      }\n",
              "\n",
              "      .colab-df-generate:hover {\n",
              "        background-color: #E2EBFA;\n",
              "        box-shadow: 0px 1px 2px rgba(60, 64, 67, 0.3), 0px 1px 3px 1px rgba(60, 64, 67, 0.15);\n",
              "        fill: #174EA6;\n",
              "      }\n",
              "\n",
              "      [theme=dark] .colab-df-generate {\n",
              "        background-color: #3B4455;\n",
              "        fill: #D2E3FC;\n",
              "      }\n",
              "\n",
              "      [theme=dark] .colab-df-generate:hover {\n",
              "        background-color: #434B5C;\n",
              "        box-shadow: 0px 1px 3px 1px rgba(0, 0, 0, 0.15);\n",
              "        filter: drop-shadow(0px 1px 2px rgba(0, 0, 0, 0.3));\n",
              "        fill: #FFFFFF;\n",
              "      }\n",
              "    </style>\n",
              "    <button class=\"colab-df-generate\" onclick=\"generateWithVariable('df_eval')\"\n",
              "            title=\"Generate code using this dataframe.\"\n",
              "            style=\"display:none;\">\n",
              "\n",
              "  <svg xmlns=\"http://www.w3.org/2000/svg\" height=\"24px\"viewBox=\"0 0 24 24\"\n",
              "       width=\"24px\">\n",
              "    <path d=\"M7,19H8.4L18.45,9,17,7.55,7,17.6ZM5,21V16.75L18.45,3.32a2,2,0,0,1,2.83,0l1.4,1.43a1.91,1.91,0,0,1,.58,1.4,1.91,1.91,0,0,1-.58,1.4L9.25,21ZM18.45,9,17,7.55Zm-12,3A5.31,5.31,0,0,0,4.9,8.1,5.31,5.31,0,0,0,1,6.5,5.31,5.31,0,0,0,4.9,4.9,5.31,5.31,0,0,0,6.5,1,5.31,5.31,0,0,0,8.1,4.9,5.31,5.31,0,0,0,12,6.5,5.46,5.46,0,0,0,6.5,12Z\"/>\n",
              "  </svg>\n",
              "    </button>\n",
              "    <script>\n",
              "      (() => {\n",
              "      const buttonEl =\n",
              "        document.querySelector('#id_5a110254-0cd3-4862-8922-a565e5ec4fb8 button.colab-df-generate');\n",
              "      buttonEl.style.display =\n",
              "        google.colab.kernel.accessAllowed ? 'block' : 'none';\n",
              "\n",
              "      buttonEl.onclick = () => {\n",
              "        google.colab.notebook.generateWithVariable('df_eval');\n",
              "      }\n",
              "      })();\n",
              "    </script>\n",
              "  </div>\n",
              "\n",
              "    </div>\n",
              "  </div>\n"
            ],
            "application/vnd.google.colaboratory.intrinsic+json": {
              "type": "dataframe",
              "variable_name": "df_eval",
              "summary": "{\n  \"name\": \"df_eval\",\n  \"rows\": 1,\n  \"fields\": [\n    {\n      \"column\": \"davies_bouldin_index\",\n      \"properties\": {\n        \"dtype\": \"number\",\n        \"std\": null,\n        \"min\": 1.1506679304206107,\n        \"max\": 1.1506679304206107,\n        \"num_unique_values\": 1,\n        \"samples\": [\n          1.1506679304206107\n        ],\n        \"semantic_type\": \"\",\n        \"description\": \"\"\n      }\n    },\n    {\n      \"column\": \"mean_squared_distance\",\n      \"properties\": {\n        \"dtype\": \"number\",\n        \"std\": null,\n        \"min\": 1.3704350490708603,\n        \"max\": 1.3704350490708603,\n        \"num_unique_values\": 1,\n        \"samples\": [\n          1.3704350490708603\n        ],\n        \"semantic_type\": \"\",\n        \"description\": \"\"\n      }\n    }\n  ]\n}"
            }
          },
          "metadata": {},
          "execution_count": 13
        }
      ]
    },
    {
      "cell_type": "code",
      "source": [
        "# prompt: Using dataframe df_eval: prompt: Using dataframe df_eval: Using dataframe df_eval: please explain the results\n",
        "# The dataframe `df_eval` contains evaluation metrics for a clustering model.\n",
        "# The 'davies_bouldin_index' is a metric that evaluates the quality of a clustering algorithm.\n",
        "# A lower Davies-Bouldin index generally indicates better clustering.\n",
        "# The value of 1.15 suggests a reasonable clustering, but the interpretation depends on the context and the specific dataset.\n",
        "# The 'mean_squared_distance' likely represents the average squared distance of each data point to its cluster center.\n",
        "# This is a measure of cluster dispersion. A lower mean squared distance indicates that points within clusters are closer to their centroids.\n",
        "# The value of 1.37 indicates the average spread of points within the clusters. Again, the interpretation is relative to the specific dataset and problem.\n",
        "# Since the dataframe only contains one row, these values represent the evaluation metrics for a single clustering result.\n",
        "# To fully understand the quality of the clustering, these values should be compared to results from different clustering algorithms,\n",
        "# different numbers of clusters, or known benchmarks for similar datasets.\n",
        "# df_eval\n",
        "\n",
        "# Display the evaluation metrics from the dataframe\n",
        "print(df_eval)\n",
        "\n",
        "# Explain the metrics\n",
        "print(\"\\nThe dataframe `df_eval` contains evaluation metrics for a clustering model.\")\n",
        "\n",
        "# Explain the Davies-Bouldin Index\n",
        "print(\"\\nThe 'davies_bouldin_index' is a metric that evaluates the quality of a clustering algorithm.\")\n",
        "print(\"A lower Davies-Bouldin index generally indicates better clustering.\")\n",
        "print(f\"The value of {df_eval['davies_bouldin_index'].iloc[0]:.2f} suggests a reasonable clustering, but the interpretation depends on the context and the specific dataset.\")\n",
        "\n",
        "# Explain the Mean Squared Distance\n",
        "print(\"\\nThe 'mean_squared_distance' likely represents the average squared distance of each data point to its cluster center.\")\n",
        "print(\"This is a measure of cluster dispersion. A lower mean squared distance indicates that points within clusters are closer to their centroids.\")\n",
        "print(f\"The value of {df_eval['mean_squared_distance'].iloc[0]:.2f} indicates the average spread of points within the clusters. Again, the interpretation is relative to the specific dataset and problem.\")\n",
        "\n",
        "# Explain the context of the results\n",
        "print(\"\\nSince the dataframe only contains one row, these values represent the evaluation metrics for a single clustering result.\")\n",
        "print(\"To fully understand the quality of the clustering, these values should be compared to results from different clustering algorithms,\")\n",
        "print(\"different numbers of clusters, or known benchmarks for similar datasets.\")"
      ],
      "metadata": {
        "id": "_kr2O2w8xvXC"
      },
      "id": "_kr2O2w8xvXC",
      "execution_count": null,
      "outputs": []
    },
    {
      "cell_type": "code",
      "source": [
        "# prompt: Using dataframe df_eval: Using dataframe df_eval: please explain the results\n",
        "\n",
        "# The dataframe `df_eval` contains evaluation metrics for a clustering model.\n",
        "# The 'davies_bouldin_index' is a metric that evaluates the quality of a clustering algorithm.\n",
        "# A lower Davies-Bouldin index generally indicates better clustering.\n",
        "# The value of 1.15 suggests a reasonable clustering, but the interpretation depends on the context and the specific dataset.\n",
        "\n",
        "# The 'mean_squared_distance' likely represents the average squared distance of each data point to its cluster center.\n",
        "# This is a measure of cluster dispersion. A lower mean squared distance indicates that points within clusters are closer to their centroids.\n",
        "# The value of 1.37 indicates the average spread of points within the clusters. Again, the interpretation is relative to the specific dataset and problem.\n",
        "\n",
        "# Since the dataframe only contains one row, these values represent the evaluation metrics for a single clustering result.\n",
        "# To fully understand the quality of the clustering, these values should be compared to results from different clustering algorithms,\n",
        "# different numbers of clusters, or known benchmarks for similar datasets.\n",
        "df_eval"
      ],
      "metadata": {
        "colab": {
          "base_uri": "https://localhost:8080/",
          "height": 81
        },
        "id": "gtcarATJxaZt",
        "outputId": "591573bf-8ab3-43e5-8f02-3ecdf9d97b7c"
      },
      "id": "gtcarATJxaZt",
      "execution_count": 14,
      "outputs": [
        {
          "output_type": "execute_result",
          "data": {
            "text/plain": [
              "   davies_bouldin_index  mean_squared_distance\n",
              "0              1.150668               1.370435"
            ],
            "text/html": [
              "\n",
              "  <div id=\"df-5f01b091-0458-4cde-a528-7505359a2c83\" class=\"colab-df-container\">\n",
              "    <div>\n",
              "<style scoped>\n",
              "    .dataframe tbody tr th:only-of-type {\n",
              "        vertical-align: middle;\n",
              "    }\n",
              "\n",
              "    .dataframe tbody tr th {\n",
              "        vertical-align: top;\n",
              "    }\n",
              "\n",
              "    .dataframe thead th {\n",
              "        text-align: right;\n",
              "    }\n",
              "</style>\n",
              "<table border=\"1\" class=\"dataframe\">\n",
              "  <thead>\n",
              "    <tr style=\"text-align: right;\">\n",
              "      <th></th>\n",
              "      <th>davies_bouldin_index</th>\n",
              "      <th>mean_squared_distance</th>\n",
              "    </tr>\n",
              "  </thead>\n",
              "  <tbody>\n",
              "    <tr>\n",
              "      <th>0</th>\n",
              "      <td>1.150668</td>\n",
              "      <td>1.370435</td>\n",
              "    </tr>\n",
              "  </tbody>\n",
              "</table>\n",
              "</div>\n",
              "    <div class=\"colab-df-buttons\">\n",
              "\n",
              "  <div class=\"colab-df-container\">\n",
              "    <button class=\"colab-df-convert\" onclick=\"convertToInteractive('df-5f01b091-0458-4cde-a528-7505359a2c83')\"\n",
              "            title=\"Convert this dataframe to an interactive table.\"\n",
              "            style=\"display:none;\">\n",
              "\n",
              "  <svg xmlns=\"http://www.w3.org/2000/svg\" height=\"24px\" viewBox=\"0 -960 960 960\">\n",
              "    <path d=\"M120-120v-720h720v720H120Zm60-500h600v-160H180v160Zm220 220h160v-160H400v160Zm0 220h160v-160H400v160ZM180-400h160v-160H180v160Zm440 0h160v-160H620v160ZM180-180h160v-160H180v160Zm440 0h160v-160H620v160Z\"/>\n",
              "  </svg>\n",
              "    </button>\n",
              "\n",
              "  <style>\n",
              "    .colab-df-container {\n",
              "      display:flex;\n",
              "      gap: 12px;\n",
              "    }\n",
              "\n",
              "    .colab-df-convert {\n",
              "      background-color: #E8F0FE;\n",
              "      border: none;\n",
              "      border-radius: 50%;\n",
              "      cursor: pointer;\n",
              "      display: none;\n",
              "      fill: #1967D2;\n",
              "      height: 32px;\n",
              "      padding: 0 0 0 0;\n",
              "      width: 32px;\n",
              "    }\n",
              "\n",
              "    .colab-df-convert:hover {\n",
              "      background-color: #E2EBFA;\n",
              "      box-shadow: 0px 1px 2px rgba(60, 64, 67, 0.3), 0px 1px 3px 1px rgba(60, 64, 67, 0.15);\n",
              "      fill: #174EA6;\n",
              "    }\n",
              "\n",
              "    .colab-df-buttons div {\n",
              "      margin-bottom: 4px;\n",
              "    }\n",
              "\n",
              "    [theme=dark] .colab-df-convert {\n",
              "      background-color: #3B4455;\n",
              "      fill: #D2E3FC;\n",
              "    }\n",
              "\n",
              "    [theme=dark] .colab-df-convert:hover {\n",
              "      background-color: #434B5C;\n",
              "      box-shadow: 0px 1px 3px 1px rgba(0, 0, 0, 0.15);\n",
              "      filter: drop-shadow(0px 1px 2px rgba(0, 0, 0, 0.3));\n",
              "      fill: #FFFFFF;\n",
              "    }\n",
              "  </style>\n",
              "\n",
              "    <script>\n",
              "      const buttonEl =\n",
              "        document.querySelector('#df-5f01b091-0458-4cde-a528-7505359a2c83 button.colab-df-convert');\n",
              "      buttonEl.style.display =\n",
              "        google.colab.kernel.accessAllowed ? 'block' : 'none';\n",
              "\n",
              "      async function convertToInteractive(key) {\n",
              "        const element = document.querySelector('#df-5f01b091-0458-4cde-a528-7505359a2c83');\n",
              "        const dataTable =\n",
              "          await google.colab.kernel.invokeFunction('convertToInteractive',\n",
              "                                                    [key], {});\n",
              "        if (!dataTable) return;\n",
              "\n",
              "        const docLinkHtml = 'Like what you see? Visit the ' +\n",
              "          '<a target=\"_blank\" href=https://colab.research.google.com/notebooks/data_table.ipynb>data table notebook</a>'\n",
              "          + ' to learn more about interactive tables.';\n",
              "        element.innerHTML = '';\n",
              "        dataTable['output_type'] = 'display_data';\n",
              "        await google.colab.output.renderOutput(dataTable, element);\n",
              "        const docLink = document.createElement('div');\n",
              "        docLink.innerHTML = docLinkHtml;\n",
              "        element.appendChild(docLink);\n",
              "      }\n",
              "    </script>\n",
              "  </div>\n",
              "\n",
              "\n",
              "    </div>\n",
              "  </div>\n"
            ],
            "application/vnd.google.colaboratory.intrinsic+json": {
              "type": "dataframe",
              "variable_name": "df_eval",
              "summary": "{\n  \"name\": \"df_eval\",\n  \"rows\": 1,\n  \"fields\": [\n    {\n      \"column\": \"davies_bouldin_index\",\n      \"properties\": {\n        \"dtype\": \"number\",\n        \"std\": null,\n        \"min\": 1.1506679304206107,\n        \"max\": 1.1506679304206107,\n        \"num_unique_values\": 1,\n        \"samples\": [\n          1.1506679304206107\n        ],\n        \"semantic_type\": \"\",\n        \"description\": \"\"\n      }\n    },\n    {\n      \"column\": \"mean_squared_distance\",\n      \"properties\": {\n        \"dtype\": \"number\",\n        \"std\": null,\n        \"min\": 1.3704350490708603,\n        \"max\": 1.3704350490708603,\n        \"num_unique_values\": 1,\n        \"samples\": [\n          1.3704350490708603\n        ],\n        \"semantic_type\": \"\",\n        \"description\": \"\"\n      }\n    }\n  ]\n}"
            }
          },
          "metadata": {},
          "execution_count": 14
        }
      ]
    },
    {
      "cell_type": "markdown",
      "id": "c71af916",
      "metadata": {
        "id": "c71af916"
      },
      "source": [
        "## 📌 Clustering: Game Behavior Segments (5 clusters)"
      ]
    },
    {
      "cell_type": "code",
      "execution_count": 15,
      "id": "668014bb",
      "metadata": {
        "colab": {
          "base_uri": "https://localhost:8080/"
        },
        "id": "668014bb",
        "outputId": "4236e8de-4899-4c73-f1b2-08045fb420c9"
      },
      "outputs": [
        {
          "output_type": "stream",
          "name": "stdout",
          "text": [
            "✅ Done.\n"
          ]
        }
      ],
      "source": [
        "query = '''CREATE OR REPLACE MODEL `prof-big-data.churn25.kmeans_game_behavior`\n",
        "OPTIONS(model_type='kmeans', num_clusters=5, standardize_features=TRUE) AS\n",
        "SELECT\n",
        "  sessions,\n",
        "  active_days,\n",
        "  consecutive_days,\n",
        "  IF(game1_play, 1, 0) AS game1,\n",
        "  IF(game2_play, 1, 0) AS game2\n",
        "FROM `prof-big-data.churn25.churnstudy`;'''\n",
        "client.query(query).result()\n",
        "print('✅ Done.')"
      ]
    },
    {
      "cell_type": "markdown",
      "id": "9cb0aaad",
      "metadata": {
        "id": "9cb0aaad"
      },
      "source": [
        "## 📌 Clustering: Full Engagement Profile (6 clusters)"
      ]
    },
    {
      "cell_type": "code",
      "execution_count": null,
      "id": "6d6c85e8",
      "metadata": {
        "id": "6d6c85e8"
      },
      "outputs": [],
      "source": [
        "query = '''CREATE OR REPLACE MODEL `prof-big-data.churn25.kmeans_full_profile`\n",
        "OPTIONS(model_type='kmeans', num_clusters=6, standardize_features=TRUE) AS\n",
        "SELECT\n",
        "  sessions,\n",
        "  active_days,\n",
        "  consecutive_days,\n",
        "  day_playtime / 60.0 AS playtime_minutes,\n",
        "  IF(game1_play, 1, 0) AS game1,\n",
        "  IF(game2_play, 1, 0) AS game2\n",
        "FROM `prof-big-data.churn25.churnstudy`;'''\n",
        "client.query(query).result()\n",
        "print('✅ Done.')"
      ]
    },
    {
      "cell_type": "markdown",
      "id": "f76fdea8",
      "metadata": {
        "id": "f76fdea8"
      },
      "source": [
        "## 📈 Linear Regression: Predicting Playtime"
      ]
    },
    {
      "cell_type": "code",
      "execution_count": null,
      "id": "e588dfc8",
      "metadata": {
        "id": "e588dfc8"
      },
      "outputs": [],
      "source": [
        "query = '''CREATE OR REPLACE MODEL `prof-big-data.churn25.linear_playtime`\n",
        "OPTIONS(model_type='linear_reg') AS\n",
        "SELECT\n",
        "  sessions,\n",
        "  active_days,\n",
        "  consecutive_days,\n",
        "  day_playtime / 60.0 AS playtime_minutes\n",
        "FROM `prof-big-data.churn25.churnstudy`;'''\n",
        "client.query(query).result()\n",
        "print('✅ Done.')"
      ]
    },
    {
      "cell_type": "markdown",
      "id": "a90e9ed5",
      "metadata": {
        "id": "a90e9ed5"
      },
      "source": [
        "## 📈 Linear Regression: Predicting Session Count"
      ]
    },
    {
      "cell_type": "code",
      "execution_count": null,
      "id": "53926601",
      "metadata": {
        "id": "53926601"
      },
      "outputs": [],
      "source": [
        "query = '''CREATE OR REPLACE MODEL `prof-big-data.churn25.linear_sessions`\n",
        "OPTIONS(model_type='linear_reg') AS\n",
        "SELECT\n",
        "  day_playtime / 60.0 AS playtime_minutes,\n",
        "  active_days,\n",
        "  consecutive_days,\n",
        "  sessions\n",
        "FROM `prof-big-data.churn25.churnstudy`;'''\n",
        "client.query(query).result()\n",
        "print('✅ Done.')"
      ]
    },
    {
      "cell_type": "markdown",
      "id": "d63ef387",
      "metadata": {
        "id": "d63ef387"
      },
      "source": [
        "## 📈 Linear Regression: Predicting Consecutive Streak"
      ]
    },
    {
      "cell_type": "code",
      "execution_count": null,
      "id": "882b30d3",
      "metadata": {
        "id": "882b30d3"
      },
      "outputs": [],
      "source": [
        "query = '''CREATE OR REPLACE MODEL `prof-big-data.churn25.linear_streak`\n",
        "OPTIONS(model_type='linear_reg') AS\n",
        "SELECT\n",
        "  sessions,\n",
        "  active_days,\n",
        "  day_playtime / 60.0 AS playtime_minutes,\n",
        "  consecutive_days\n",
        "FROM `prof-big-data.churn25.churnstudy`;'''\n",
        "client.query(query).result()\n",
        "print('✅ Done.')"
      ]
    },
    {
      "cell_type": "markdown",
      "id": "614262a2",
      "metadata": {
        "id": "614262a2"
      },
      "source": [
        "## 🔍 Logistic Regression: Conversion Prediction"
      ]
    },
    {
      "cell_type": "code",
      "execution_count": null,
      "id": "60af8cc4",
      "metadata": {
        "id": "60af8cc4"
      },
      "outputs": [],
      "source": [
        "query = '''CREATE OR REPLACE MODEL `prof-big-data.churn25.logit_conversion`\n",
        "OPTIONS(model_type='logistic_reg', input_label_cols=['converted']) AS\n",
        "SELECT\n",
        "  sessions,\n",
        "  active_days,\n",
        "  consecutive_days,\n",
        "  day_playtime / 60.0 AS playtime_minutes,\n",
        "  IF(game1_play, 1, 0) AS game1,\n",
        "  IF(game2_play, 1, 0) AS game2,\n",
        "  IF(freetrial_status = 'renewed', 1, 0) AS converted\n",
        "FROM `prof-big-data.churn25.churnstudy`;'''\n",
        "client.query(query).result()\n",
        "print('✅ Done.')"
      ]
    },
    {
      "cell_type": "markdown",
      "id": "cb91dd5b",
      "metadata": {
        "id": "cb91dd5b"
      },
      "source": [
        "## 🌲 Manual Segmentation: Light / Moderate / Power Users"
      ]
    },
    {
      "cell_type": "code",
      "execution_count": null,
      "id": "05b5c58a",
      "metadata": {
        "id": "05b5c58a"
      },
      "outputs": [],
      "source": [
        "query = '''CREATE OR REPLACE TABLE `prof-big-data.churn25.segmented_users` AS\n",
        "SELECT *,\n",
        "  CASE\n",
        "    WHEN sessions > 10 AND consecutive_days >= 5 THEN 'power_user'\n",
        "    WHEN sessions BETWEEN 5 AND 10 THEN 'moderate_user'\n",
        "    ELSE 'light_user'\n",
        "  END AS user_segment\n",
        "FROM `prof-big-data.churn25.churnstudy`;'''\n",
        "client.query(query).result()\n",
        "print('✅ Done.')"
      ]
    },
    {
      "cell_type": "markdown",
      "id": "bc6f3b64",
      "metadata": {
        "id": "bc6f3b64"
      },
      "source": [
        "## 🌲 Logistic Model: Power Users Only"
      ]
    },
    {
      "cell_type": "code",
      "execution_count": null,
      "id": "7f21f793",
      "metadata": {
        "id": "7f21f793"
      },
      "outputs": [],
      "source": [
        "query = '''CREATE OR REPLACE MODEL `prof-big-data.churn25.logit_power_users`\n",
        "OPTIONS(model_type='logistic_reg', input_label_cols=['converted']) AS\n",
        "SELECT\n",
        "  sessions,\n",
        "  active_days,\n",
        "  consecutive_days,\n",
        "  IF(game1_play, 1, 0) AS game1,\n",
        "  IF(game2_play, 1, 0) AS game2,\n",
        "  IF(freetrial_status = 'renewed', 1, 0) AS converted\n",
        "FROM `prof-big-data.churn25.segmented_users`\n",
        "WHERE user_segment = 'power_user';'''\n",
        "client.query(query).result()\n",
        "print('✅ Done.')"
      ]
    }
  ],
  "metadata": {
    "colab": {
      "provenance": [],
      "include_colab_link": true
    },
    "language_info": {
      "name": "python"
    },
    "kernelspec": {
      "name": "python3",
      "display_name": "Python 3"
    }
  },
  "nbformat": 4,
  "nbformat_minor": 5
}